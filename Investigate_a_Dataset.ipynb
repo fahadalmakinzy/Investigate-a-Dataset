
Jupyter Notebook
Investigate_a_Dataset Last Checkpoint: 09/08/2019 (autosaved) Current Kernel Logo

Python 3

    File
    Edit
    View
    Insert
    Cell
    Kernel
    Widgets
    Help

Project: TMDB Movies Data
Table of Contents

    Introduction
    Data Wrangling
    Exploratory Data Analysis
    Conclusions

Introduction

    If you haven't yet selected and downloaded your data, make sure you do that first before coming back here. In order to work with the data in this workspace, you also need to upload it to the workspace. To do so, click on the jupyter icon in the upper left to be taken back to the workspace directory. There should be an 'Upload' button in the upper right that will let you add your data file(s) to the workspace. You can then click on the .ipynb file name to come back here.

import numpy as np

import pandas as pd

import matplotlib.pyplot as plt

import seaborn as sns

​

Data Wrangling
General Properties

# Load your data and print out a few lines. Perform operations to inspect data

#   types and look for instances of missing or possibly errant data.

import pandas as pd

df = pd.read_csv('tmdb-movies.csv')

df.head()

​

	id 	imdb_id 	popularity 	budget 	revenue 	original_title 	cast 	homepage 	director 	tagline 	... 	overview 	runtime 	genres 	production_companies 	release_date 	vote_count 	vote_average 	release_year 	budget_adj 	revenue_adj
0 	135397 	tt0369610 	32.985763 	150000000 	1513528810 	Jurassic World 	Chris Pratt|Bryce Dallas Howard|Irrfan Khan|Vi... 	http://www.jurassicworld.com/ 	Colin Trevorrow 	The park is open. 	... 	Twenty-two years after the events of Jurassic ... 	124 	Action|Adventure|Science Fiction|Thriller 	Universal Studios|Amblin Entertainment|Legenda... 	6/9/15 	5562 	6.5 	2015 	1.379999e+08 	1.392446e+09
1 	76341 	tt1392190 	28.419936 	150000000 	378436354 	Mad Max: Fury Road 	Tom Hardy|Charlize Theron|Hugh Keays-Byrne|Nic... 	http://www.madmaxmovie.com/ 	George Miller 	What a Lovely Day. 	... 	An apocalyptic story set in the furthest reach... 	120 	Action|Adventure|Science Fiction|Thriller 	Village Roadshow Pictures|Kennedy Miller Produ... 	5/13/15 	6185 	7.1 	2015 	1.379999e+08 	3.481613e+08
2 	262500 	tt2908446 	13.112507 	110000000 	295238201 	Insurgent 	Shailene Woodley|Theo James|Kate Winslet|Ansel... 	http://www.thedivergentseries.movie/#insurgent 	Robert Schwentke 	One Choice Can Destroy You 	... 	Beatrice Prior must confront her inner demons ... 	119 	Adventure|Science Fiction|Thriller 	Summit Entertainment|Mandeville Films|Red Wago... 	3/18/15 	2480 	6.3 	2015 	1.012000e+08 	2.716190e+08
3 	140607 	tt2488496 	11.173104 	200000000 	2068178225 	Star Wars: The Force Awakens 	Harrison Ford|Mark Hamill|Carrie Fisher|Adam D... 	http://www.starwars.com/films/star-wars-episod... 	J.J. Abrams 	Every generation has a story. 	... 	Thirty years after defeating the Galactic Empi... 	136 	Action|Adventure|Science Fiction|Fantasy 	Lucasfilm|Truenorth Productions|Bad Robot 	12/15/15 	5292 	7.5 	2015 	1.839999e+08 	1.902723e+09
4 	168259 	tt2820852 	9.335014 	190000000 	1506249360 	Furious 7 	Vin Diesel|Paul Walker|Jason Statham|Michelle ... 	http://www.furious7.com/ 	James Wan 	Vengeance Hits Home 	... 	Deckard Shaw seeks revenge against Dominic Tor... 	137 	Action|Crime|Thriller 	Universal Pictures|Original Film|Media Rights ... 	4/1/15 	2947 	7.3 	2015 	1.747999e+08 	1.385749e+09

5 rows × 21 columns

df.describe()

	id 	popularity 	budget 	revenue 	runtime 	vote_count 	vote_average 	release_year 	budget_adj 	revenue_adj
count 	10866.000000 	10866.000000 	1.086600e+04 	1.086600e+04 	10866.000000 	10866.000000 	10866.000000 	10866.000000 	1.086600e+04 	1.086600e+04
mean 	66064.177434 	0.646441 	1.462570e+07 	3.982332e+07 	102.070863 	217.389748 	5.974922 	2001.322658 	1.755104e+07 	5.136436e+07
std 	92130.136561 	1.000185 	3.091321e+07 	1.170035e+08 	31.381405 	575.619058 	0.935142 	12.812941 	3.430616e+07 	1.446325e+08
min 	5.000000 	0.000065 	0.000000e+00 	0.000000e+00 	0.000000 	10.000000 	1.500000 	1960.000000 	0.000000e+00 	0.000000e+00
25% 	10596.250000 	0.207583 	0.000000e+00 	0.000000e+00 	90.000000 	17.000000 	5.400000 	1995.000000 	0.000000e+00 	0.000000e+00
50% 	20669.000000 	0.383856 	0.000000e+00 	0.000000e+00 	99.000000 	38.000000 	6.000000 	2006.000000 	0.000000e+00 	0.000000e+00
75% 	75610.000000 	0.713817 	1.500000e+07 	2.400000e+07 	111.000000 	145.750000 	6.600000 	2011.000000 	2.085325e+07 	3.369710e+07
max 	417859.000000 	32.985763 	4.250000e+08 	2.781506e+09 	900.000000 	9767.000000 	9.200000 	2015.000000 	4.250000e+08 	2.827124e+09

df.shape

(10866, 21)

df.isnull()

	id 	imdb_id 	popularity 	budget 	revenue 	original_title 	cast 	homepage 	director 	tagline 	... 	overview 	runtime 	genres 	production_companies 	release_date 	vote_count 	vote_average 	release_year 	budget_adj 	revenue_adj
0 	False 	False 	False 	False 	False 	False 	False 	False 	False 	False 	... 	False 	False 	False 	False 	False 	False 	False 	False 	False 	False
1 	False 	False 	False 	False 	False 	False 	False 	False 	False 	False 	... 	False 	False 	False 	False 	False 	False 	False 	False 	False 	False
2 	False 	False 	False 	False 	False 	False 	False 	False 	False 	False 	... 	False 	False 	False 	False 	False 	False 	False 	False 	False 	False
3 	False 	False 	False 	False 	False 	False 	False 	False 	False 	False 	... 	False 	False 	False 	False 	False 	False 	False 	False 	False 	False
4 	False 	False 	False 	False 	False 	False 	False 	False 	False 	False 	... 	False 	False 	False 	False 	False 	False 	False 	False 	False 	False
5 	False 	False 	False 	False 	False 	False 	False 	False 	False 	False 	... 	False 	False 	False 	False 	False 	False 	False 	False 	False 	False
6 	False 	False 	False 	False 	False 	False 	False 	False 	False 	False 	... 	False 	False 	False 	False 	False 	False 	False 	False 	False 	False
7 	False 	False 	False 	False 	False 	False 	False 	False 	False 	False 	... 	False 	False 	False 	False 	False 	False 	False 	False 	False 	False
8 	False 	False 	False 	False 	False 	False 	False 	False 	False 	False 	... 	False 	False 	False 	False 	False 	False 	False 	False 	False 	False
9 	False 	False 	False 	False 	False 	False 	False 	False 	False 	False 	... 	False 	False 	False 	False 	False 	False 	False 	False 	False 	False
10 	False 	False 	False 	False 	False 	False 	False 	False 	False 	False 	... 	False 	False 	False 	False 	False 	False 	False 	False 	False 	False
11 	False 	False 	False 	False 	False 	False 	False 	False 	False 	False 	... 	False 	False 	False 	False 	False 	False 	False 	False 	False 	False
12 	False 	False 	False 	False 	False 	False 	False 	False 	False 	False 	... 	False 	False 	False 	False 	False 	False 	False 	False 	False 	False
13 	False 	False 	False 	False 	False 	False 	False 	False 	False 	False 	... 	False 	False 	False 	False 	False 	False 	False 	False 	False 	False
14 	False 	False 	False 	False 	False 	False 	False 	False 	False 	False 	... 	False 	False 	False 	False 	False 	False 	False 	False 	False 	False
15 	False 	False 	False 	False 	False 	False 	False 	False 	False 	False 	... 	False 	False 	False 	False 	False 	False 	False 	False 	False 	False
16 	False 	False 	False 	False 	False 	False 	False 	False 	False 	False 	... 	False 	False 	False 	False 	False 	False 	False 	False 	False 	False
17 	False 	False 	False 	False 	False 	False 	False 	False 	False 	False 	... 	False 	False 	False 	False 	False 	False 	False 	False 	False 	False
18 	False 	False 	False 	False 	False 	False 	False 	True 	False 	False 	... 	False 	False 	False 	False 	False 	False 	False 	False 	False 	False
19 	False 	False 	False 	False 	False 	False 	False 	False 	False 	False 	... 	False 	False 	False 	False 	False 	False 	False 	False 	False 	False
20 	False 	False 	False 	False 	False 	False 	False 	False 	False 	False 	... 	False 	False 	False 	False 	False 	False 	False 	False 	False 	False
21 	False 	False 	False 	False 	False 	False 	False 	True 	False 	False 	... 	False 	False 	False 	False 	False 	False 	False 	False 	False 	False
22 	False 	False 	False 	False 	False 	False 	False 	False 	False 	False 	... 	False 	False 	False 	False 	False 	False 	False 	False 	False 	False
23 	False 	False 	False 	False 	False 	False 	False 	False 	False 	False 	... 	False 	False 	False 	False 	False 	False 	False 	False 	False 	False
24 	False 	False 	False 	False 	False 	False 	False 	False 	False 	False 	... 	False 	False 	False 	False 	False 	False 	False 	False 	False 	False
25 	False 	False 	False 	False 	False 	False 	False 	False 	False 	False 	... 	False 	False 	False 	False 	False 	False 	False 	False 	False 	False
26 	False 	False 	False 	False 	False 	False 	False 	True 	False 	False 	... 	False 	False 	False 	False 	False 	False 	False 	False 	False 	False
27 	False 	False 	False 	False 	False 	False 	False 	False 	False 	False 	... 	False 	False 	False 	False 	False 	False 	False 	False 	False 	False
28 	False 	False 	False 	False 	False 	False 	False 	False 	False 	False 	... 	False 	False 	False 	False 	False 	False 	False 	False 	False 	False
29 	False 	False 	False 	False 	False 	False 	False 	False 	False 	False 	... 	False 	False 	False 	False 	False 	False 	False 	False 	False 	False
... 	... 	... 	... 	... 	... 	... 	... 	... 	... 	... 	... 	... 	... 	... 	... 	... 	... 	... 	... 	... 	...
10836 	False 	False 	False 	False 	False 	False 	False 	True 	False 	False 	... 	False 	False 	False 	False 	False 	False 	False 	False 	False 	False
10837 	False 	False 	False 	False 	False 	False 	False 	True 	False 	False 	... 	False 	False 	False 	False 	False 	False 	False 	False 	False 	False
10838 	False 	False 	False 	False 	False 	False 	False 	True 	False 	False 	... 	False 	False 	False 	False 	False 	False 	False 	False 	False 	False
10839 	False 	False 	False 	False 	False 	False 	False 	True 	False 	False 	... 	False 	False 	False 	False 	False 	False 	False 	False 	False 	False
10840 	False 	False 	False 	False 	False 	False 	False 	True 	False 	True 	... 	False 	False 	False 	False 	False 	False 	False 	False 	False 	False
10841 	False 	False 	False 	False 	False 	False 	False 	True 	False 	False 	... 	False 	False 	False 	False 	False 	False 	False 	False 	False 	False
10842 	False 	False 	False 	False 	False 	False 	False 	True 	False 	True 	... 	False 	False 	False 	True 	False 	False 	False 	False 	False 	False
10843 	False 	False 	False 	False 	False 	False 	False 	True 	False 	False 	... 	False 	False 	False 	False 	False 	False 	False 	False 	False 	False
10844 	False 	False 	False 	False 	False 	False 	False 	True 	False 	False 	... 	False 	False 	False 	False 	False 	False 	False 	False 	False 	False
10845 	False 	False 	False 	False 	False 	False 	False 	True 	False 	False 	... 	False 	False 	False 	False 	False 	False 	False 	False 	False 	False
10846 	False 	False 	False 	False 	False 	False 	False 	True 	False 	False 	... 	False 	False 	False 	False 	False 	False 	False 	False 	False 	False
10847 	False 	False 	False 	False 	False 	False 	False 	True 	False 	False 	... 	False 	False 	False 	False 	False 	False 	False 	False 	False 	False
10848 	False 	False 	False 	False 	False 	False 	False 	True 	False 	False 	... 	False 	False 	False 	False 	False 	False 	False 	False 	False 	False
10849 	False 	False 	False 	False 	False 	False 	False 	True 	False 	False 	... 	False 	False 	False 	False 	False 	False 	False 	False 	False 	False
10850 	False 	False 	False 	False 	False 	False 	False 	True 	False 	False 	... 	False 	False 	False 	False 	False 	False 	False 	False 	False 	False
10851 	False 	False 	False 	False 	False 	False 	False 	True 	False 	False 	... 	False 	False 	False 	False 	False 	False 	False 	False 	False 	False
10852 	False 	False 	False 	False 	False 	False 	False 	True 	False 	False 	... 	False 	False 	False 	False 	False 	False 	False 	False 	False 	False
10853 	False 	False 	False 	False 	False 	False 	False 	True 	False 	False 	... 	False 	False 	False 	True 	False 	False 	False 	False 	False 	False
10854 	False 	False 	False 	False 	False 	False 	False 	True 	False 	False 	... 	False 	False 	False 	False 	False 	False 	False 	False 	False 	False
10855 	False 	False 	False 	False 	False 	False 	False 	True 	False 	False 	... 	False 	False 	False 	False 	False 	False 	False 	False 	False 	False
10856 	False 	False 	False 	False 	False 	False 	False 	True 	False 	False 	... 	False 	False 	False 	False 	False 	False 	False 	False 	False 	False
10857 	False 	False 	False 	False 	False 	False 	False 	True 	False 	False 	... 	False 	False 	False 	False 	False 	False 	False 	False 	False 	False
10858 	False 	False 	False 	False 	False 	False 	False 	True 	False 	False 	... 	False 	False 	False 	False 	False 	False 	False 	False 	False 	False
10859 	False 	False 	False 	False 	False 	False 	False 	True 	False 	True 	... 	False 	False 	False 	False 	False 	False 	False 	False 	False 	False
10860 	False 	False 	False 	False 	False 	False 	False 	True 	False 	False 	... 	False 	False 	False 	False 	False 	False 	False 	False 	False 	False
10861 	False 	False 	False 	False 	False 	False 	False 	True 	False 	True 	... 	False 	False 	False 	False 	False 	False 	False 	False 	False 	False
10862 	False 	False 	False 	False 	False 	False 	False 	True 	False 	False 	... 	False 	False 	False 	False 	False 	False 	False 	False 	False 	False
10863 	False 	False 	False 	False 	False 	False 	False 	True 	False 	True 	... 	False 	False 	False 	False 	False 	False 	False 	False 	False 	False
10864 	False 	False 	False 	False 	False 	False 	False 	True 	False 	False 	... 	False 	False 	False 	False 	False 	False 	False 	False 	False 	False
10865 	False 	False 	False 	False 	False 	False 	False 	True 	False 	False 	... 	False 	False 	False 	False 	False 	False 	False 	False 	False 	False

10866 rows × 21 columns

df.info()

<class 'pandas.core.frame.DataFrame'>
RangeIndex: 10866 entries, 0 to 10865
Data columns (total 21 columns):
id                      10866 non-null int64
imdb_id                 10856 non-null object
popularity              10866 non-null float64
budget                  10866 non-null int64
revenue                 10866 non-null int64
original_title          10866 non-null object
cast                    10790 non-null object
homepage                2936 non-null object
director                10822 non-null object
tagline                 8042 non-null object
keywords                9373 non-null object
overview                10862 non-null object
runtime                 10866 non-null int64
genres                  10843 non-null object
production_companies    9836 non-null object
release_date            10866 non-null object
vote_count              10866 non-null int64
vote_average            10866 non-null float64
release_year            10866 non-null int64
budget_adj              10866 non-null float64
revenue_adj             10866 non-null float64
dtypes: float64(4), int64(6), object(11)
memory usage: 1.7+ MB

df[df.homepage.isnull()].hist(figsize=(10, 8));

Data Cleaning (Replace this with more specific notes!)

# After discussing the structure of the data and any problems that need to be

#   cleaned, perform those cleaning steps in the second part of this section.

df[df.imdb_id.isnull()]

df.dropna(inplace=True)

df.info()

<class 'pandas.core.frame.DataFrame'>
Int64Index: 1992 entries, 0 to 10819
Data columns (total 21 columns):
id                      1992 non-null int64
imdb_id                 1992 non-null object
popularity              1992 non-null float64
budget                  1992 non-null int64
revenue                 1992 non-null int64
original_title          1992 non-null object
cast                    1992 non-null object
homepage                1992 non-null object
director                1992 non-null object
tagline                 1992 non-null object
keywords                1992 non-null object
overview                1992 non-null object
runtime                 1992 non-null int64
genres                  1992 non-null object
production_companies    1992 non-null object
release_date            1992 non-null object
vote_count              1992 non-null int64
vote_average            1992 non-null float64
release_year            1992 non-null int64
budget_adj              1992 non-null float64
revenue_adj             1992 non-null float64
dtypes: float64(4), int64(6), object(11)
memory usage: 342.4+ KB

df[df.homepage.isnull()].hist(figsize=(10, 8));

Exploratory Data Analysis
Research Question 1 (Relation between movie genres and popularity)

# Use this, and more code cells, to explore your data. Don't forget to add

#   Markdown cells to document your observations and findings.

​

​

df.hist(figsize=(10, 8));

df.head(50)

	id 	imdb_id 	popularity 	budget 	revenue 	original_title 	cast 	homepage 	director 	tagline 	... 	overview 	runtime 	genres 	production_companies 	release_date 	vote_count 	vote_average 	release_year 	budget_adj 	revenue_adj
0 	135397 	tt0369610 	32.985763 	150000000 	1513528810 	Jurassic World 	Chris Pratt|Bryce Dallas Howard|Irrfan Khan|Vi... 	http://www.jurassicworld.com/ 	Colin Trevorrow 	The park is open. 	... 	Twenty-two years after the events of Jurassic ... 	124 	Action|Adventure|Science Fiction|Thriller 	Universal Studios|Amblin Entertainment|Legenda... 	6/9/15 	5562 	6.5 	2015 	1.379999e+08 	1.392446e+09
1 	76341 	tt1392190 	28.419936 	150000000 	378436354 	Mad Max: Fury Road 	Tom Hardy|Charlize Theron|Hugh Keays-Byrne|Nic... 	http://www.madmaxmovie.com/ 	George Miller 	What a Lovely Day. 	... 	An apocalyptic story set in the furthest reach... 	120 	Action|Adventure|Science Fiction|Thriller 	Village Roadshow Pictures|Kennedy Miller Produ... 	5/13/15 	6185 	7.1 	2015 	1.379999e+08 	3.481613e+08
2 	262500 	tt2908446 	13.112507 	110000000 	295238201 	Insurgent 	Shailene Woodley|Theo James|Kate Winslet|Ansel... 	http://www.thedivergentseries.movie/#insurgent 	Robert Schwentke 	One Choice Can Destroy You 	... 	Beatrice Prior must confront her inner demons ... 	119 	Adventure|Science Fiction|Thriller 	Summit Entertainment|Mandeville Films|Red Wago... 	3/18/15 	2480 	6.3 	2015 	1.012000e+08 	2.716190e+08
3 	140607 	tt2488496 	11.173104 	200000000 	2068178225 	Star Wars: The Force Awakens 	Harrison Ford|Mark Hamill|Carrie Fisher|Adam D... 	http://www.starwars.com/films/star-wars-episod... 	J.J. Abrams 	Every generation has a story. 	... 	Thirty years after defeating the Galactic Empi... 	136 	Action|Adventure|Science Fiction|Fantasy 	Lucasfilm|Truenorth Productions|Bad Robot 	12/15/15 	5292 	7.5 	2015 	1.839999e+08 	1.902723e+09
4 	168259 	tt2820852 	9.335014 	190000000 	1506249360 	Furious 7 	Vin Diesel|Paul Walker|Jason Statham|Michelle ... 	http://www.furious7.com/ 	James Wan 	Vengeance Hits Home 	... 	Deckard Shaw seeks revenge against Dominic Tor... 	137 	Action|Crime|Thriller 	Universal Pictures|Original Film|Media Rights ... 	4/1/15 	2947 	7.3 	2015 	1.747999e+08 	1.385749e+09
5 	281957 	tt1663202 	9.110700 	135000000 	532950503 	The Revenant 	Leonardo DiCaprio|Tom Hardy|Will Poulter|Domhn... 	http://www.foxmovies.com/movies/the-revenant 	Alejandro GonzÃ¡lez IÃ±Ã¡rritu 	(n. One who has returned, as if from the dead.) 	... 	In the 1820s, a frontiersman, Hugh Glass, sets... 	156 	Western|Drama|Adventure|Thriller 	Regency Enterprises|Appian Way|CatchPlay|Anony... 	12/25/15 	3929 	7.2 	2015 	1.241999e+08 	4.903142e+08
6 	87101 	tt1340138 	8.654359 	155000000 	440603537 	Terminator Genisys 	Arnold Schwarzenegger|Jason Clarke|Emilia Clar... 	http://www.terminatormovie.com/ 	Alan Taylor 	Reset the future 	... 	The year is 2029. John Connor, leader of the r... 	125 	Science Fiction|Action|Thriller|Adventure 	Paramount Pictures|Skydance Productions 	6/23/15 	2598 	5.8 	2015 	1.425999e+08 	4.053551e+08
7 	286217 	tt3659388 	7.667400 	108000000 	595380321 	The Martian 	Matt Damon|Jessica Chastain|Kristen Wiig|Jeff ... 	http://www.foxmovies.com/movies/the-martian 	Ridley Scott 	Bring Him Home 	... 	During a manned mission to Mars, Astronaut Mar... 	141 	Drama|Adventure|Science Fiction 	Twentieth Century Fox Film Corporation|Scott F... 	9/30/15 	4572 	7.6 	2015 	9.935996e+07 	5.477497e+08
8 	211672 	tt2293640 	7.404165 	74000000 	1156730962 	Minions 	Sandra Bullock|Jon Hamm|Michael Keaton|Allison... 	http://www.minionsmovie.com/ 	Kyle Balda|Pierre Coffin 	Before Gru, they had a history of bad bosses 	... 	Minions Stuart, Kevin and Bob are recruited by... 	91 	Family|Animation|Adventure|Comedy 	Universal Pictures|Illumination Entertainment 	6/17/15 	2893 	6.5 	2015 	6.807997e+07 	1.064192e+09
9 	150540 	tt2096673 	6.326804 	175000000 	853708609 	Inside Out 	Amy Poehler|Phyllis Smith|Richard Kind|Bill Ha... 	http://movies.disney.com/inside-out 	Pete Docter 	Meet the little voices inside your head. 	... 	Growing up can be a bumpy road, and it's no ex... 	94 	Comedy|Animation|Family 	Walt Disney Pictures|Pixar Animation Studios|W... 	6/9/15 	3935 	8.0 	2015 	1.609999e+08 	7.854116e+08
10 	206647 	tt2379713 	6.200282 	245000000 	880674609 	Spectre 	Daniel Craig|Christoph Waltz|LÃ©a Seydoux|Ralp... 	http://www.sonypictures.com/movies/spectre/ 	Sam Mendes 	A Plan No One Escapes 	... 	A cryptic message from Bondâ€™s past sends him... 	148 	Action|Adventure|Crime 	Columbia Pictures|Danjaq|B24 	10/26/15 	3254 	6.2 	2015 	2.253999e+08 	8.102203e+08
11 	76757 	tt1617661 	6.189369 	176000003 	183987723 	Jupiter Ascending 	Mila Kunis|Channing Tatum|Sean Bean|Eddie Redm... 	http://www.jupiterascending.com 	Lana Wachowski|Lilly Wachowski 	Expand your universe. 	... 	In a universe where human genetic material is ... 	124 	Science Fiction|Fantasy|Action|Adventure 	Village Roadshow Pictures|Dune Entertainment|A... 	2/4/15 	1937 	5.2 	2015 	1.619199e+08 	1.692686e+08
12 	264660 	tt0470752 	6.118847 	15000000 	36869414 	Ex Machina 	Domhnall Gleeson|Alicia Vikander|Oscar Isaac|S... 	http://exmachina-movie.com/ 	Alex Garland 	There is nothing more human than the will to s... 	... 	Caleb, a 26 year old coder at the world's larg... 	108 	Drama|Science Fiction 	DNA Films|Universal Pictures International (UP... 	1/21/15 	2854 	7.6 	2015 	1.379999e+07 	3.391985e+07
13 	257344 	tt2120120 	5.984995 	88000000 	243637091 	Pixels 	Adam Sandler|Michelle Monaghan|Peter Dinklage|... 	http://www.pixels-movie.com/ 	Chris Columbus 	Game On. 	... 	Video game experts are recruited by the milita... 	105 	Action|Comedy|Science Fiction 	Columbia Pictures|Happy Madison Productions 	7/16/15 	1575 	5.8 	2015 	8.095996e+07 	2.241460e+08
14 	99861 	tt2395427 	5.944927 	280000000 	1405035767 	Avengers: Age of Ultron 	Robert Downey Jr.|Chris Hemsworth|Mark Ruffalo... 	http://marvel.com/movies/movie/193/avengers_ag... 	Joss Whedon 	A New Age Has Come. 	... 	When Tony Stark tries to jumpstart a dormant p... 	141 	Action|Adventure|Science Fiction 	Marvel Studios|Prime Focus|Revolution Sun Studios 	4/22/15 	4304 	7.4 	2015 	2.575999e+08 	1.292632e+09
15 	273248 	tt3460252 	5.898400 	44000000 	155760117 	The Hateful Eight 	Samuel L. Jackson|Kurt Russell|Jennifer Jason ... 	http://thehatefuleight.com/ 	Quentin Tarantino 	No one comes up here without a damn good reason. 	... 	Bounty hunters seek shelter from a raging bliz... 	167 	Crime|Drama|Mystery|Western 	Double Feature Films|The Weinstein Company|Fil... 	12/25/15 	2389 	7.4 	2015 	4.047998e+07 	1.432992e+08
16 	260346 	tt2446042 	5.749758 	48000000 	325771424 	Taken 3 	Liam Neeson|Forest Whitaker|Maggie Grace|Famke... 	http://www.taken3movie.com/ 	Olivier Megaton 	It Ends Here 	... 	Ex-government operative Bryan Mills finds his ... 	109 	Crime|Action|Thriller 	Twentieth Century Fox Film Corporation|M6 Film... 	1/1/15 	1578 	6.1 	2015 	4.415998e+07 	2.997096e+08
17 	102899 	tt0478970 	5.573184 	130000000 	518602163 	Ant-Man 	Paul Rudd|Michael Douglas|Evangeline Lilly|Cor... 	http://marvel.com/movies/movie/180/ant-man 	Peyton Reed 	Heroes Don't Get Any Bigger 	... 	Armed with the astonishing ability to shrink i... 	115 	Science Fiction|Action|Adventure 	Marvel Studios 	7/14/15 	3779 	7.0 	2015 	1.195999e+08 	4.771138e+08
19 	131634 	tt1951266 	5.476958 	160000000 	650523427 	The Hunger Games: Mockingjay - Part 2 	Jennifer Lawrence|Josh Hutcherson|Liam Hemswor... 	http://www.thehungergames.movie/ 	Francis Lawrence 	The fire will burn forever. 	... 	With the nation of Panem in a full scale war, ... 	136 	War|Adventure|Science Fiction 	Studio Babelsberg|StudioCanal|Lionsgate|Walt D... 	11/18/15 	2380 	6.5 	2015 	1.471999e+08 	5.984813e+08
20 	158852 	tt1964418 	5.462138 	190000000 	209035668 	Tomorrowland 	Britt Robertson|George Clooney|Raffey Cassidy|... 	http://movies.disney.com/tomorrowland 	Brad Bird 	Imagine a world where nothing is impossible. 	... 	Bound by a shared destiny, a bright, optimisti... 	130 	Action|Family|Science Fiction|Adventure|Mystery 	Walt Disney Pictures|Babieka|A113 	5/19/15 	1899 	6.2 	2015 	1.747999e+08 	1.923127e+08
22 	254128 	tt2126355 	4.907832 	110000000 	470490832 	San Andreas 	Dwayne Johnson|Alexandra Daddario|Carla Gugino... 	http://www.sanandreasmovie.com/ 	Brad Peyton 	A rescue pilot survived an earthquake, this is... 	... 	In the aftermath of a massive earthquake in Ca... 	114 	Action|Drama|Thriller 	New Line Cinema|Village Roadshow Pictures|Warn... 	5/27/15 	2060 	6.1 	2015 	1.012000e+08 	4.328514e+08
23 	216015 	tt2322441 	4.710402 	40000000 	569651467 	Fifty Shades of Grey 	Dakota Johnson|Jamie Dornan|Jennifer Ehle|Eloi... 	https://www.facebook.com/fiftyshadesofgreymovie 	Sam Taylor-Johnson 	Are you curious? 	... 	When college senior Anastasia Steele steps in ... 	125 	Drama|Romance 	Focus Features|Trigger Street Productions|Mich... 	2/11/15 	1865 	5.3 	2015 	3.679998e+07 	5.240791e+08
24 	318846 	tt1596363 	4.648046 	28000000 	133346506 	The Big Short 	Christian Bale|Steve Carell|Ryan Gosling|Brad ... 	http://www.thebigshortmovie.com/ 	Adam McKay 	This is a true story. 	... 	The men who made millions from a global econom... 	130 	Comedy|Drama 	Paramount Pictures|Plan B Entertainment|Regenc... 	12/11/15 	1545 	7.3 	2015 	2.575999e+07 	1.226787e+08
25 	177677 	tt2381249 	4.566713 	150000000 	682330139 	Mission: Impossible - Rogue Nation 	Tom Cruise|Jeremy Renner|Simon Pegg|Rebecca Fe... 	http://www.missionimpossible.com 	Christopher McQuarrie 	Desperate Times. Desperate Measures. 	... 	Ethan and team take on their most impossible m... 	131 	Action 	Paramount Pictures|Skydance Productions|China ... 	7/23/15 	2349 	7.1 	2015 	1.379999e+08 	6.277435e+08
27 	207703 	tt2802144 	4.503789 	81000000 	403802136 	Kingsman: The Secret Service 	Taron Egerton|Colin Firth|Samuel L. Jackson|Mi... 	http://www.kingsmanmovie.com/ 	Matthew Vaughn 	Manners maketh man. 	... 	The story of a super-secret spy organization t... 	130 	Crime|Comedy|Action|Adventure 	Twentieth Century Fox Film Corporation|Marv Fi... 	1/24/15 	3833 	7.6 	2015 	7.451997e+07 	3.714978e+08
28 	314365 	tt1895587 	4.062293 	20000000 	88346473 	Spotlight 	Mark Ruffalo|Michael Keaton|Rachel McAdams|Lie... 	http://www.spotlightthefilm.com 	Tom McCarthy 	Break the story. Break the silence. 	... 	The true story of how The Boston Globe uncover... 	128 	Drama|Thriller|History 	Participant Media|Open Road Films|Anonymous Co... 	11/6/15 	1559 	7.8 	2015 	1.839999e+07 	8.127872e+07
29 	294254 	tt4046784 	3.968891 	61000000 	311256926 	Maze Runner: The Scorch Trials 	Dylan O'Brien|Kaya Scodelario|Thomas Brodie-Sa... 	http://mazerunnermovies.com 	Wes Ball 	The Maze Was Just the Beginning. 	... 	Thomas and his fellow Gladers face their great... 	132 	Action|Science Fiction|Thriller 	Gotham Group|Temple Hill Entertainment|TSG Ent... 	9/9/15 	1849 	6.4 	2015 	5.611998e+07 	2.863562e+08
30 	280996 	tt3168230 	3.927333 	0 	29355203 	Mr. Holmes 	Ian McKellen|Milo Parker|Laura Linney|Hattie M... 	http://www.mrholmesfilm.com/ 	Bill Condon 	The man behind the myth 	... 	The story is set in 1947, following a long-ret... 	103 	Mystery|Drama 	BBC Films|See-Saw Films|FilmNation Entertainme... 	6/19/15 	425 	6.4 	2015 	0.000000e+00 	2.700677e+07
31 	198184 	tt1823672 	3.899557 	49000000 	102069268 	Chappie 	Sharlto Copley|Dev Patel|Ninja|Yolandi Visser|... 	http://www.chappie-movie.com 	Neill Blomkamp 	I am consciousness. I am alive. I am Chappie. 	... 	Every child comes into the world full of promi... 	120 	Crime|Action|Science Fiction 	Columbia Pictures|Media Rights Capital|Sony Pi... 	3/4/15 	1990 	6.6 	2015 	4.507998e+07 	9.390369e+07
34 	257445 	tt1051904 	3.644541 	58000000 	150170815 	Goosebumps 	Jack Black|Dylan Minnette|Odeya Rush|Amy Ryan|... 	http://www.goosebumps-movie.com/ 	Rob Letterman 	The stories are alive. 	... 	A teenager teams up with the daughter of young... 	103 	Adventure|Horror|Comedy 	Columbia Pictures|Original Film|Scholastic Ent... 	8/5/15 	600 	6.2 	2015 	5.335998e+07 	1.381571e+08
35 	264644 	tt3170832 	3.557846 	6000000 	35401758 	Room 	Brie Larson|Jacob Tremblay|Joan Allen|Sean Bri... 	http://www.roomthemovie.com 	Lenny Abrahamson 	Love knows no boundaries 	... 	Jack is a young boy of 5 years old who has liv... 	117 	Drama|Thriller 	Element Pictures|No Trace Camping|A24|Duperele... 	10/16/15 	1520 	8.0 	2015 	5.519998e+06 	3.256960e+07
37 	105864 	tt1979388 	3.339135 	175000000 	331926147 	The Good Dinosaur 	Raymond Ochoa|Jack Bright|Jeffrey Wright|Franc... 	http://movies.disney.com/the-good-dinosaur 	Peter Sohn 	Little Arms With Big Attitude 	... 	An epic journey into the world of dinosaurs wh... 	93 	Adventure|Animation|Comedy|Family|Fantasy 	Walt Disney Pictures|Pixar Animation Studios|B... 	11/14/15 	1087 	6.6 	2015 	1.609999e+08 	3.053719e+08
39 	167073 	tt2381111 	3.227329 	11000000 	62076141 	Brooklyn 	Saoirse Ronan|Domhnall Gleeson|Emory Cohen|Emi... 	http://www.foxsearchlight.com/brooklyn/ 	John Crowley 	Two countries, two loves, one heart 	... 	In 1950s Ireland and New York, young Ellis Lac... 	111 	Drama|Romance 	Wildgaze Films|Irish Film Board|Item 7|Paralle... 	11/4/15 	754 	7.3 	2015 	1.012000e+07 	5.711002e+07
40 	277216 	tt1398426 	3.202719 	28000000 	201634991 	Straight Outta Compton 	O'Shea Jackson Jr.|Corey Hawkins|Jason Mitchel... 	http://www.straightouttacompton.com/ 	F. Gary Gray 	The Story of N.W.A. 	... 	In 1987, five young men, using brutally honest... 	147 	Drama|Music 	New Line Cinema|Universal Pictures|Legendary P... 	8/13/15 	918 	7.7 	2015 	2.575999e+07 	1.855041e+08
41 	274854 	tt1618442 	3.080505 	90000000 	140396650 	The Last Witch Hunter 	Vin Diesel|Rose Leslie|Michael Caine|Elijah Wo... 	http://www.thelastwitchhunter.movie/ 	Breck Eisner 	Hunt forever. 	... 	The modern world holds many secrets, but by fa... 	106 	Fantasy|Action|Adventure 	Summit Entertainment|Atmosphere Entertainment ... 	10/21/15 	879 	5.6 	2015 	8.279996e+07 	1.291649e+08
44 	293863 	tt1655441 	3.025852 	25000000 	42629776 	The Age of Adaline 	Blake Lively|Michiel Huisman|Harrison Ford|Ell... 	http://theageofadalinemovie.com 	Lee Toland Krieger 	Love is timeless. 	... 	After 29-year-old Adaline recovers from a near... 	112 	Fantasy|Drama|Romance 	Lakeshore Entertainment|Sidney Kimmel Entertai... 	4/16/15 	1221 	7.3 	2015 	2.299999e+07 	3.921938e+07
45 	325348 	tt3072482 	3.023253 	10000000 	14333790 	Hardcore Henry 	Sharlto Copley|Haley Bennett|Danila Kozlovskiy... 	http://stxmovies.com/hardcorehenry/ 	Ilya Naishuller 	First they made him dangerous. Then they made ... 	... 	Henry, a newly resurrected cyborg who must sav... 	97 	Action|Adventure|Science Fiction 	Bazelevs Production|Versus Pictures 	9/12/15 	396 	5.9 	2015 	9.199996e+06 	1.318708e+07
46 	228161 	tt2224026 	2.976436 	135000000 	368871007 	Home 	Jim Parsons|Rihanna|Steve Martin|Jennifer Lope... 	http://www.meettheboov.com/ 	Tim Johnson 	Worlds Collide 	... 	When Earth is taken over by the overly-confide... 	94 	Fantasy|Comedy|Animation|Science Fiction|Family 	Twentieth Century Fox Film Corporation|DreamWo... 	3/18/15 	1060 	6.9 	2015 	1.241999e+08 	3.393612e+08
49 	254320 	tt3464902 	2.885126 	4000000 	9064511 	The Lobster 	Colin Farrell|Rachel Weisz|LÃ©a Seydoux|John C... 	http://tickets.picturehouseentertainment.co.uk... 	Yorgos Lanthimos 	An unconventional love story... 	... 	In a dystopian near future, single people, acc... 	118 	Thriller|Comedy|Drama|Romance|Science Fiction 	Haut et Court|Eurimages|Lemming Film|Element P... 	10/8/15 	638 	6.6 	2015 	3.679998e+06 	8.339346e+06
50 	258480 	tt2402927 	2.883233 	11800000 	40272135 	Carol 	Cate Blanchett|Rooney Mara|Kyle Chandler|Sarah... 	http://carolfilm.com/ 	Todd Haynes 	Some people change your life forever. 	... 	In 1950s New York, a department-store clerk wh... 	118 	Romance|Drama 	Killer Films|Film4|Number 9 Films 	11/20/15 	562 	7.1 	2015 	1.085600e+07 	3.705035e+07
51 	257211 	tt2361509 	2.814802 	35000000 	194564672 	The Intern 	Robert De Niro|Anne Hathaway|Rene Russo|Anders... 	http://www.theinternmovie.com/ 	Nancy Meyers 	Experience never gets old 	... 	70-year-old widower Ben Whittaker has discover... 	121 	Comedy 	Waverly Films|Warner Bros. 	9/24/15 	1255 	7.1 	2015 	3.219999e+07 	1.789994e+08
52 	253412 	tt2719848 	2.798017 	55000000 	203427584 	Everest 	Jason Clarke|Jake Gyllenhaal|Josh Brolin|John ... 	http://www.everestmovie.com/ 	Baltasar KormÃ¡kur 	The Storm Awaits. 	... 	Inspired by the incredible events surrounding ... 	121 	Adventure|Drama 	Universal Pictures|Working Title Films|Walden ... 	9/10/15 	1172 	6.7 	2015 	5.059998e+07 	1.871533e+08
54 	257088 	tt2058673 	2.614499 	105000000 	133718711 	Point Break 	Edgar RamÃ­rez|Luke Bracey|Teresa Palmer|Delro... 	https://www.facebook.com/PointBreakMovie 	Ericson Core 	The only law that matters is gravity 	... 	A young undercover FBI agent infiltrates a gan... 	114 	Action|Crime|Thriller 	Studio Babelsberg|Alcon Entertainment|DMG Ente... 	12/3/15 	505 	5.5 	2015 	9.659996e+07 	1.230212e+08
55 	295964 	tt2503944 	2.584264 	20000000 	36606743 	Burnt 	Bradley Cooper|Sienna Miller|Lily James|Alicia... 	http://burntmovie.com/ 	John Wells 	Never underestimate a man with everything to l... 	... 	Adam Jones is a Chef who destroyed his career ... 	100 	Drama 	Double Feature Films|PeaPie Films|3 Arts Enter... 	10/2/15 	631 	6.3 	2015 	1.839999e+07 	3.367819e+07
56 	238615 	tt2140379 	2.578919 	26000000 	30523226 	Self/less 	Ryan Reynolds|Ben Kingsley|Natalie Martinez|Ma... 	http://selflessmovie.tumblr.com/ 	Tarsem Singh 	God Created Man. Man Created Immortality. 	... 	An extremely wealthy elderly man dying from ca... 	116 	Science Fiction|Mystery|Thriller 	Endgame Entertainment|Ram Bergman Productions 	7/10/15 	719 	6.2 	2015 	2.391999e+07 	2.808136e+07
57 	210860 	tt3045616 	2.575711 	60000000 	30418560 	Mortdecai 	Johnny Depp|Gwyneth Paltrow|Ewan McGregor|Paul... 	http://mortdecaithemovie.com/ 	David Koepp 	Sophistication Has a Name. 	... 	Art dealer, Charles Mortdecai, searches for a ... 	106 	Comedy|Adventure 	Lionsgate|Mad Chance|OddLot Entertainment|Huay... 	1/21/15 	696 	5.3 	2015 	5.519998e+07 	2.798506e+07
59 	201088 	tt2717822 	2.550747 	70000000 	17752940 	Blackhat 	Chris Hemsworth|Leehom Wang|Tang Wei|Viola Dav... 	http://www.legendary.com/film/blackhat/ 	Michael Mann 	We are no longer in control. 	... 	A man is released from prison to help American... 	133 	Mystery|Crime|Action|Thriller|Drama 	Universal Pictures|Forward Pass|Legendary Pict... 	1/13/15 	584 	5.0 	2015 	6.439997e+07 	1.633270e+07
61 	166424 	tt1502712 	2.487042 	120000001 	167977596 	Fantastic Four 	Miles Teller|Kate Mara|Michael B. Jordan|Jamie... 	http://www.fantasticfourmovie.com/ 	Josh Trank 	Change is coming. 	... 	Four young outsiders teleport to a dangerous u... 	100 	Action|Adventure|Science Fiction 	Twentieth Century Fox Film Corporation|Marv Fi... 	8/5/15 	1565 	4.4 	2015 	1.104000e+08 	1.545393e+08
62 	310131 	tt4263482 	2.464490 	3500000 	40423945 	The Witch 	Anya Taylor-Joy|Ralph Ineson|Kate Dickie|Harve... 	http://a24films.com/films/witch/ 	Robert Eggers 	Evil takes many forms. 	... 	New England in the 1630s: William and Katherin... 	92 	Mystery|Horror 	Parts and Labor|RT Features|Rooks Nest Enterta... 	3/24/15 	700 	5.8 	2015 	3.219999e+06 	3.719001e+07
63 	238713 	tt3079380 	2.404473 	65000000 	235666219 	Spy 	Melissa McCarthy|Jason Statham|Rose Byrne|Mira... 	http://www.foxmovies.com/movies/spy 	Paul Feig 	One of the guys. One of the Spies. 	... 	A desk-bound CIA analyst volunteers to go unde... 	120 	Action|Comedy|Crime 	Twentieth Century Fox Film Corporation|Chernin... 	5/6/15 	1840 	6.9 	2015 	5.979997e+07 	2.168128e+08

50 rows × 21 columns

df.dtype()

---------------------------------------------------------------------------
AttributeError                            Traceback (most recent call last)
<ipython-input-5-144c7b0decef> in <module>
----> 1 df.dtype()

//anaconda3/lib/python3.7/site-packages/pandas/core/generic.py in __getattr__(self, name)
   5065             if self._info_axis._can_hold_identifiers_and_holds_name(name):
   5066                 return self[name]
-> 5067             return object.__getattribute__(self, name)
   5068 
   5069     def __setattr__(self, name, value):

AttributeError: 'DataFrame' object has no attribute 'dtype'

#action = df.genres.str.split("|", n=10, expand = True)

action = df.genres.str.find('Action') >= 0

action

df["action_genres"] = action

actiont = action == True

actionf = action == False

#df.head()

df.groupby('action_genres').popularity.mean().plot(kind='bar');

​

horror = df.genres.str.find('Horror') >= 0

df["horror_genres"] = horror

horrort = horror == True

horrorf = horror ==False

df.groupby('horror_genres').popularity.mean().plot(kind='bar');

import matplotlib.pyplot as plt

df.popularity[actiont].hist(alpha=0.5, bins=20, label='Action')

df.popularity[horrort].hist(alpha=0.5, bins=20, label='Horror')

#df.horror_genres[horrort].hist(alpha=0.5, bins=20, label='Horror')

plt.legend();

Research Question 2 (Relation between budget and vote average)

vmean = df.vote_average.mean()

vmean

​

high = df.vote_average >= vmean

​

df['high_vote'] = high

hight = high == True

highf = high == False

​

df.high_vote.value_counts()

True     1053
False     939
Name: high_vote, dtype: int64

df.budget[hight].hist(alpha=0.5, bins=20, label='High Vote')

df.budget[highf].hist(alpha=0.5, bins=20, label="Low Vote")

plt.legend();

df

	id 	imdb_id 	popularity 	budget 	revenue 	original_title 	cast 	homepage 	director 	tagline 	... 	production_companies 	release_date 	vote_count 	vote_average 	release_year 	budget_adj 	revenue_adj 	action_genres 	horror_genres 	high_vote
0 	135397 	tt0369610 	32.985763 	150000000 	1513528810 	Jurassic World 	Chris Pratt|Bryce Dallas Howard|Irrfan Khan|Vi... 	http://www.jurassicworld.com/ 	Colin Trevorrow 	The park is open. 	... 	Universal Studios|Amblin Entertainment|Legenda... 	6/9/15 	5562 	6.5 	2015 	1.379999e+08 	1.392446e+09 	True 	False 	True
1 	76341 	tt1392190 	28.419936 	150000000 	378436354 	Mad Max: Fury Road 	Tom Hardy|Charlize Theron|Hugh Keays-Byrne|Nic... 	http://www.madmaxmovie.com/ 	George Miller 	What a Lovely Day. 	... 	Village Roadshow Pictures|Kennedy Miller Produ... 	5/13/15 	6185 	7.1 	2015 	1.379999e+08 	3.481613e+08 	True 	False 	True
2 	262500 	tt2908446 	13.112507 	110000000 	295238201 	Insurgent 	Shailene Woodley|Theo James|Kate Winslet|Ansel... 	http://www.thedivergentseries.movie/#insurgent 	Robert Schwentke 	One Choice Can Destroy You 	... 	Summit Entertainment|Mandeville Films|Red Wago... 	3/18/15 	2480 	6.3 	2015 	1.012000e+08 	2.716190e+08 	False 	False 	True
3 	140607 	tt2488496 	11.173104 	200000000 	2068178225 	Star Wars: The Force Awakens 	Harrison Ford|Mark Hamill|Carrie Fisher|Adam D... 	http://www.starwars.com/films/star-wars-episod... 	J.J. Abrams 	Every generation has a story. 	... 	Lucasfilm|Truenorth Productions|Bad Robot 	12/15/15 	5292 	7.5 	2015 	1.839999e+08 	1.902723e+09 	True 	False 	True
4 	168259 	tt2820852 	9.335014 	190000000 	1506249360 	Furious 7 	Vin Diesel|Paul Walker|Jason Statham|Michelle ... 	http://www.furious7.com/ 	James Wan 	Vengeance Hits Home 	... 	Universal Pictures|Original Film|Media Rights ... 	4/1/15 	2947 	7.3 	2015 	1.747999e+08 	1.385749e+09 	True 	False 	True
5 	281957 	tt1663202 	9.110700 	135000000 	532950503 	The Revenant 	Leonardo DiCaprio|Tom Hardy|Will Poulter|Domhn... 	http://www.foxmovies.com/movies/the-revenant 	Alejandro GonzÃ¡lez IÃ±Ã¡rritu 	(n. One who has returned, as if from the dead.) 	... 	Regency Enterprises|Appian Way|CatchPlay|Anony... 	12/25/15 	3929 	7.2 	2015 	1.241999e+08 	4.903142e+08 	False 	False 	True
6 	87101 	tt1340138 	8.654359 	155000000 	440603537 	Terminator Genisys 	Arnold Schwarzenegger|Jason Clarke|Emilia Clar... 	http://www.terminatormovie.com/ 	Alan Taylor 	Reset the future 	... 	Paramount Pictures|Skydance Productions 	6/23/15 	2598 	5.8 	2015 	1.425999e+08 	4.053551e+08 	True 	False 	False
7 	286217 	tt3659388 	7.667400 	108000000 	595380321 	The Martian 	Matt Damon|Jessica Chastain|Kristen Wiig|Jeff ... 	http://www.foxmovies.com/movies/the-martian 	Ridley Scott 	Bring Him Home 	... 	Twentieth Century Fox Film Corporation|Scott F... 	9/30/15 	4572 	7.6 	2015 	9.935996e+07 	5.477497e+08 	False 	False 	True
8 	211672 	tt2293640 	7.404165 	74000000 	1156730962 	Minions 	Sandra Bullock|Jon Hamm|Michael Keaton|Allison... 	http://www.minionsmovie.com/ 	Kyle Balda|Pierre Coffin 	Before Gru, they had a history of bad bosses 	... 	Universal Pictures|Illumination Entertainment 	6/17/15 	2893 	6.5 	2015 	6.807997e+07 	1.064192e+09 	False 	False 	True
9 	150540 	tt2096673 	6.326804 	175000000 	853708609 	Inside Out 	Amy Poehler|Phyllis Smith|Richard Kind|Bill Ha... 	http://movies.disney.com/inside-out 	Pete Docter 	Meet the little voices inside your head. 	... 	Walt Disney Pictures|Pixar Animation Studios|W... 	6/9/15 	3935 	8.0 	2015 	1.609999e+08 	7.854116e+08 	False 	False 	True
10 	206647 	tt2379713 	6.200282 	245000000 	880674609 	Spectre 	Daniel Craig|Christoph Waltz|LÃ©a Seydoux|Ralp... 	http://www.sonypictures.com/movies/spectre/ 	Sam Mendes 	A Plan No One Escapes 	... 	Columbia Pictures|Danjaq|B24 	10/26/15 	3254 	6.2 	2015 	2.253999e+08 	8.102203e+08 	True 	False 	True
11 	76757 	tt1617661 	6.189369 	176000003 	183987723 	Jupiter Ascending 	Mila Kunis|Channing Tatum|Sean Bean|Eddie Redm... 	http://www.jupiterascending.com 	Lana Wachowski|Lilly Wachowski 	Expand your universe. 	... 	Village Roadshow Pictures|Dune Entertainment|A... 	2/4/15 	1937 	5.2 	2015 	1.619199e+08 	1.692686e+08 	True 	False 	False
12 	264660 	tt0470752 	6.118847 	15000000 	36869414 	Ex Machina 	Domhnall Gleeson|Alicia Vikander|Oscar Isaac|S... 	http://exmachina-movie.com/ 	Alex Garland 	There is nothing more human than the will to s... 	... 	DNA Films|Universal Pictures International (UP... 	1/21/15 	2854 	7.6 	2015 	1.379999e+07 	3.391985e+07 	False 	False 	True
13 	257344 	tt2120120 	5.984995 	88000000 	243637091 	Pixels 	Adam Sandler|Michelle Monaghan|Peter Dinklage|... 	http://www.pixels-movie.com/ 	Chris Columbus 	Game On. 	... 	Columbia Pictures|Happy Madison Productions 	7/16/15 	1575 	5.8 	2015 	8.095996e+07 	2.241460e+08 	True 	False 	False
14 	99861 	tt2395427 	5.944927 	280000000 	1405035767 	Avengers: Age of Ultron 	Robert Downey Jr.|Chris Hemsworth|Mark Ruffalo... 	http://marvel.com/movies/movie/193/avengers_ag... 	Joss Whedon 	A New Age Has Come. 	... 	Marvel Studios|Prime Focus|Revolution Sun Studios 	4/22/15 	4304 	7.4 	2015 	2.575999e+08 	1.292632e+09 	True 	False 	True
15 	273248 	tt3460252 	5.898400 	44000000 	155760117 	The Hateful Eight 	Samuel L. Jackson|Kurt Russell|Jennifer Jason ... 	http://thehatefuleight.com/ 	Quentin Tarantino 	No one comes up here without a damn good reason. 	... 	Double Feature Films|The Weinstein Company|Fil... 	12/25/15 	2389 	7.4 	2015 	4.047998e+07 	1.432992e+08 	False 	False 	True
16 	260346 	tt2446042 	5.749758 	48000000 	325771424 	Taken 3 	Liam Neeson|Forest Whitaker|Maggie Grace|Famke... 	http://www.taken3movie.com/ 	Olivier Megaton 	It Ends Here 	... 	Twentieth Century Fox Film Corporation|M6 Film... 	1/1/15 	1578 	6.1 	2015 	4.415998e+07 	2.997096e+08 	True 	False 	False
17 	102899 	tt0478970 	5.573184 	130000000 	518602163 	Ant-Man 	Paul Rudd|Michael Douglas|Evangeline Lilly|Cor... 	http://marvel.com/movies/movie/180/ant-man 	Peyton Reed 	Heroes Don't Get Any Bigger 	... 	Marvel Studios 	7/14/15 	3779 	7.0 	2015 	1.195999e+08 	4.771138e+08 	True 	False 	True
19 	131634 	tt1951266 	5.476958 	160000000 	650523427 	The Hunger Games: Mockingjay - Part 2 	Jennifer Lawrence|Josh Hutcherson|Liam Hemswor... 	http://www.thehungergames.movie/ 	Francis Lawrence 	The fire will burn forever. 	... 	Studio Babelsberg|StudioCanal|Lionsgate|Walt D... 	11/18/15 	2380 	6.5 	2015 	1.471999e+08 	5.984813e+08 	False 	False 	True
20 	158852 	tt1964418 	5.462138 	190000000 	209035668 	Tomorrowland 	Britt Robertson|George Clooney|Raffey Cassidy|... 	http://movies.disney.com/tomorrowland 	Brad Bird 	Imagine a world where nothing is impossible. 	... 	Walt Disney Pictures|Babieka|A113 	5/19/15 	1899 	6.2 	2015 	1.747999e+08 	1.923127e+08 	True 	False 	True
22 	254128 	tt2126355 	4.907832 	110000000 	470490832 	San Andreas 	Dwayne Johnson|Alexandra Daddario|Carla Gugino... 	http://www.sanandreasmovie.com/ 	Brad Peyton 	A rescue pilot survived an earthquake, this is... 	... 	New Line Cinema|Village Roadshow Pictures|Warn... 	5/27/15 	2060 	6.1 	2015 	1.012000e+08 	4.328514e+08 	True 	False 	False
23 	216015 	tt2322441 	4.710402 	40000000 	569651467 	Fifty Shades of Grey 	Dakota Johnson|Jamie Dornan|Jennifer Ehle|Eloi... 	https://www.facebook.com/fiftyshadesofgreymovie 	Sam Taylor-Johnson 	Are you curious? 	... 	Focus Features|Trigger Street Productions|Mich... 	2/11/15 	1865 	5.3 	2015 	3.679998e+07 	5.240791e+08 	False 	False 	False
24 	318846 	tt1596363 	4.648046 	28000000 	133346506 	The Big Short 	Christian Bale|Steve Carell|Ryan Gosling|Brad ... 	http://www.thebigshortmovie.com/ 	Adam McKay 	This is a true story. 	... 	Paramount Pictures|Plan B Entertainment|Regenc... 	12/11/15 	1545 	7.3 	2015 	2.575999e+07 	1.226787e+08 	False 	False 	True
25 	177677 	tt2381249 	4.566713 	150000000 	682330139 	Mission: Impossible - Rogue Nation 	Tom Cruise|Jeremy Renner|Simon Pegg|Rebecca Fe... 	http://www.missionimpossible.com 	Christopher McQuarrie 	Desperate Times. Desperate Measures. 	... 	Paramount Pictures|Skydance Productions|China ... 	7/23/15 	2349 	7.1 	2015 	1.379999e+08 	6.277435e+08 	True 	False 	True
27 	207703 	tt2802144 	4.503789 	81000000 	403802136 	Kingsman: The Secret Service 	Taron Egerton|Colin Firth|Samuel L. Jackson|Mi... 	http://www.kingsmanmovie.com/ 	Matthew Vaughn 	Manners maketh man. 	... 	Twentieth Century Fox Film Corporation|Marv Fi... 	1/24/15 	3833 	7.6 	2015 	7.451997e+07 	3.714978e+08 	True 	False 	True
28 	314365 	tt1895587 	4.062293 	20000000 	88346473 	Spotlight 	Mark Ruffalo|Michael Keaton|Rachel McAdams|Lie... 	http://www.spotlightthefilm.com 	Tom McCarthy 	Break the story. Break the silence. 	... 	Participant Media|Open Road Films|Anonymous Co... 	11/6/15 	1559 	7.8 	2015 	1.839999e+07 	8.127872e+07 	False 	False 	True
29 	294254 	tt4046784 	3.968891 	61000000 	311256926 	Maze Runner: The Scorch Trials 	Dylan O'Brien|Kaya Scodelario|Thomas Brodie-Sa... 	http://mazerunnermovies.com 	Wes Ball 	The Maze Was Just the Beginning. 	... 	Gotham Group|Temple Hill Entertainment|TSG Ent... 	9/9/15 	1849 	6.4 	2015 	5.611998e+07 	2.863562e+08 	True 	False 	True
30 	280996 	tt3168230 	3.927333 	0 	29355203 	Mr. Holmes 	Ian McKellen|Milo Parker|Laura Linney|Hattie M... 	http://www.mrholmesfilm.com/ 	Bill Condon 	The man behind the myth 	... 	BBC Films|See-Saw Films|FilmNation Entertainme... 	6/19/15 	425 	6.4 	2015 	0.000000e+00 	2.700677e+07 	False 	False 	True
31 	198184 	tt1823672 	3.899557 	49000000 	102069268 	Chappie 	Sharlto Copley|Dev Patel|Ninja|Yolandi Visser|... 	http://www.chappie-movie.com 	Neill Blomkamp 	I am consciousness. I am alive. I am Chappie. 	... 	Columbia Pictures|Media Rights Capital|Sony Pi... 	3/4/15 	1990 	6.6 	2015 	4.507998e+07 	9.390369e+07 	True 	False 	True
34 	257445 	tt1051904 	3.644541 	58000000 	150170815 	Goosebumps 	Jack Black|Dylan Minnette|Odeya Rush|Amy Ryan|... 	http://www.goosebumps-movie.com/ 	Rob Letterman 	The stories are alive. 	... 	Columbia Pictures|Original Film|Scholastic Ent... 	8/5/15 	600 	6.2 	2015 	5.335998e+07 	1.381571e+08 	False 	True 	True
... 	... 	... 	... 	... 	... 	... 	... 	... 	... 	... 	... 	... 	... 	... 	... 	... 	... 	... 	... 	... 	...
9992 	1669 	tt0099810 	1.072912 	30 	200 	The Hunt for Red October 	Alec Baldwin|Sean Connery|Scott Glenn|Sam Neil... 	http://www.paramount.com/movies/hunt-red-october 	John McTiernan 	Invisible. Silent. Stolen. 	... 	Paramount Pictures|Nina Saxon Film Design|Mace... 	3/2/90 	615 	6.9 	1990 	5.006696e+01 	3.337797e+02 	True 	False 	True
10012 	530 	tt0104361 	0.519773 	0 	0 	A Grand Day Out 	Peter Sallis 	http://www.wallaceandgromit.com/films/a-grand-... 	Nick Park 	Join the ultimate human-canine team as they bl... 	... 	Aardman Animations 	5/18/90 	103 	7.3 	1990 	0.000000e+00 	0.000000e+00 	False 	False 	True
10078 	12651 	tt0100133 	0.747549 	23000000 	0 	Memphis Belle 	Matthew Modine|Eric Stoltz|Tate Donovan|D. B. ... 	http://www.imdb.com/title/tt0100133/ 	Michael Caton-Jones 	Brave young men who rode on the wings of victory. 	... 	Warner Bros.|Enigma Productions|Fujisankei Com... 	9/7/90 	65 	6.0 	1990 	3.838467e+07 	0.000000e+00 	True 	False 	False
10094 	771 	tt0099785 	0.142486 	18000000 	476684675 	Home Alone 	Macaulay Culkin|Joe Pesci|Daniel Stern|John He... 	https://www.foxconnect.com/home-alone-4.html 	Chris Columbus 	A Family Comedy Without the Family. 	... 	Twentieth Century Fox Film Corporation|Hughes ... 	11/9/90 	1393 	7.0 	1990 	3.004017e+07 	7.955384e+08 	False 	False 	True
10131 	430 	tt0055256 	0.303783 	3000000 	4000000 	One, Two, Three 	James Cagney|Liselotte Pulver|Horst Buchholz|P... 	http://en.wikipedia.org/wiki/One,_Two,_Three 	Billy Wilder 	Billy Wilder's Explosive New Comedy 	... 	The Mirisch Corporation 	12/15/61 	30 	7.5 	1961 	2.188458e+07 	2.917944e+07 	False 	False 	True
10190 	17814 	tt0074156 	0.374631 	150000 	0 	Assault on Precinct 13 	Austin Stoker|Darwin Joston|Laurie Zimmer|Mart... 	http://www.theofficialjohncarpenter.com/assaul... 	John Carpenter 	L.A.'s deadliest street gang just declared war... 	... 	Overseas FilmGroup|The CKK Corporation 	11/5/76 	80 	7.0 	1976 	5.747547e+05 	0.000000e+00 	True 	False 	True
10213 	40440 	tt0075244 	0.126140 	0 	0 	The Song Remains the Same 	Robert Plant|Jimmy Page|John Bonham|John Paul ... 	http://www.ledzeppelin.com/ 	Peter Clifton|Joe Massot 	In Concert And Beyond 	... 	Warner Bros.|Swan Song 	11/5/76 	14 	7.0 	1976 	0.000000e+00 	0.000000e+00 	False 	False 	True
10222 	424 	tt0108052 	2.377288 	22000000 	321265768 	Schindler's List 	Liam Neeson|Ben Kingsley|Ralph Fiennes|Carolin... 	http://www.schindlerslist.com/ 	Steven Spielberg 	Whoever saves one life, saves the world entire. 	... 	Universal Pictures|Amblin Entertainment 	11/29/93 	2632 	8.1 	1993 	3.320834e+07 	4.849410e+08 	False 	False 	True
10223 	329 	tt0107290 	2.204926 	63000000 	920100000 	Jurassic Park 	Sam Neill|Laura Dern|Jeff Goldblum|Richard Att... 	http://www.jurassicpark.com/ 	Steven Spielberg 	An adventure 65 million years in the making. 	... 	Universal Pictures|Amblin Entertainment 	6/11/93 	3169 	7.4 	1993 	9.509661e+07 	1.388863e+09 	False 	False 	True
10224 	9739 	tt0106697 	1.960217 	57000000 	159055768 	Demolition Man 	Sylvester Stallone|Wesley Snipes|Sandra Bulloc... 	http://www.warnerbros.com/demolition-man 	Marco Brambilla 	The 21st Century's most dangerous cop. The 21s... 	... 	Silver Pictures|Warner Bros. 	10/8/93 	580 	6.1 	1993 	8.603979e+07 	2.400899e+08 	True 	False 	False
10238 	531 	tt0108598 	0.996113 	0 	0 	The Wrong Trousers 	Peter Sallis 	http://www.wallaceandgromit.com/films/the-wron... 	Nick Park 	Winner of the 1993 Academy Award for Best Anim... 	... 	Aardman Animations 	12/17/93 	146 	7.4 	1993 	0.000000e+00 	0.000000e+00 	False 	False 	True
10251 	10057 	tt0108333 	0.794564 	30000000 	53898845 	The Three Musketeers 	Charlie Sheen|Kiefer Sutherland|Chris O'Donnel... 	http://movies.disney.com/the-three-musketeers 	Stephen Herek 	All for one and one for all! 	... 	Walt Disney Pictures|Caravan Pictures 	11/11/93 	112 	5.9 	1993 	4.528410e+07 	8.135869e+07 	True 	False 	False
10255 	10909 	tt0107302 	0.761510 	9000000 	2395231 	Kalifornia 	Brad Pitt|David Duchovny|Juliette Lewis|Michel... 	http://www.mgm.com/#/our-titles/1024/Kalifornia 	Dominic Sena 	Fear never travels alone. 	... 	Propaganda Films|Kouf/Bigelow Productions 	9/1/93 	96 	6.3 	1993 	1.358523e+07 	3.615529e+06 	False 	False 	True
10317 	2149 	tt0106453 	0.394817 	30000000 	13273595 	Body of Evidence 	Madonna|Willem Dafoe|Julianne Moore|Anne Arche... 	http://www.mgm.com/#/our-titles/226/Body-Of-Ev... 	Uli Edel 	An act of love, or an act of murder? 	... 	Metro-Goldwyn-Mayer (MGM) 	1/15/93 	25 	4.4 	1993 	4.528410e+07 	2.003609e+07 	False 	False 	False
10328 	31578 	tt0106449 	0.238862 	0 	0 	Body Bags 	John Carpenter|Robert Carradine|Alex Datcher|D... 	http://www.theofficialjohncarpenter.com/body-b... 	John Carpenter|Tobe Hooper|Larry Sulkis 	Zip yourself in tight! 	... 	Showtime Networks 	8/7/93 	21 	5.3 	1993 	0.000000e+00 	0.000000e+00 	False 	True 	False
10338 	8291 	tt0107840 	0.313792 	14000000 	27515786 	Poetic Justice 	Janet Jackson|Tupac Shakur|Regina King|Joe Tor... 	http://www.janetjackson.com 	John Singleton 	A Street Romance. 	... 	Columbia Pictures 	7/23/93 	24 	6.8 	1993 	2.113258e+07 	4.153425e+07 	False 	False 	True
10372 	13063 	tt0115819 	0.181665 	125000 	0 	Cannibal! The Musical 	Trey Parker|Dian Bachar|Ian Hardin|Jon Hegel|M... 	http://www.cannibalthemusical.net/index.shtml 	Trey Parker 	All Singing! All Dancing! All Flesh Eating! 	... 	Avenging Conscience|Troma Entertainment|Cannib... 	10/1/93 	19 	6.7 	1993 	1.886837e+05 	0.000000e+00 	False 	True 	True
10401 	667 	tt0062512 	1.554808 	9500000 	111584787 	You Only Live Twice 	Sean Connery|Akiko Wakabayashi|Karin Dor|Mie H... 	http://www.mgm.com/view/movie/2347/You-Only-Li... 	Lewis Gilbert 	You Only Live Twice...and Twice is the only wa... 	... 	Eon Productions 	6/12/67 	301 	6.2 	1967 	6.209926e+07 	7.294034e+08 	True 	False 	True
10438 	657 	tt0057076 	2.508235 	2500000 	78898765 	From Russia With Love 	Sean Connery|Daniela Bianchi|Lotte Lenya|Rober... 	http://www.mgm.com/view/movie/717/From-Russia-... 	Terence Young 	The world's masters of murder pull out all the... 	... 	Eon Productions|Metro-Goldwyn-Mayer (MGM)|Danjaq 	10/11/63 	458 	6.7 	1963 	1.780045e+07 	5.617734e+08 	True 	False 	True
10489 	6978 	tt0090728 	0.960984 	25000000 	11000000 	Big Trouble in Little China 	Kurt Russell|Kim Cattrall|Dennis Dun|James Hon... 	http://www.theofficialjohncarpenter.com/big-tr... 	John Carpenter 	Adventure doesn't come any bigger! 	... 	Twentieth Century Fox Film Corporation|TAFT En... 	5/30/86 	347 	6.7 	1986 	4.973516e+07 	2.188347e+07 	True 	False 	True
10567 	20537 	tt0090798 	0.227370 	0 	0 	Caravaggio 	Nigel Terry|Tilda Swinton|Sean Bean|Robbie Col... 	http://www.zeitgeistfilms.com/film.php?directo... 	Derek Jarman 	His passion came with a price. 	... 	British Film Institute (BFI) 	8/29/86 	13 	4.7 	1986 	0.000000e+00 	0.000000e+00 	False 	False 	False
10594 	9552 	tt0070047 	2.010733 	8000000 	441306145 	The Exorcist 	Linda Blair|Max von Sydow|Ellen Burstyn|Jason ... 	http://theexorcist.warnerbros.com/ 	William Friedkin 	Something almost beyond comprehension is happe... 	... 	Warner Bros.|Hoya Productions 	12/26/73 	1113 	7.2 	1973 	3.928928e+07 	2.167325e+09 	False 	True 	True
10595 	253 	tt0070328 	1.549139 	7000000 	161777836 	Live and Let Die 	Roger Moore|Yaphet Kotto|Jane Seymour|Clifton ... 	http://www.mgm.com/view/movie/1130/Live-and-Le... 	Guy Hamilton 	Roger Moore is James Bond. 	... 	Eon Productions|Metro-Goldwyn-Mayer (MGM) 	7/5/73 	293 	6.1 	1973 	3.437812e+07 	7.945168e+08 	True 	False 	False
10657 	5722 	tt0065466 	0.374514 	0 	0 	Beyond the Valley of the Dolls 	Dolly Read|Cynthia Myers|Marcia McBroom|John L... 	http://www.beyondthevalleyofthedolls.com/home.... 	Russ Meyer 	This Is Not A Sequel. There Has Never Been Any... 	... 	Twentieth Century Fox Film Corporation 	7/17/70 	19 	6.2 	1970 	0.000000e+00 	0.000000e+00 	False 	False 	True
10689 	660 	tt0059800 	1.910465 	11000000 	141195658 	Thunderball 	Sean Connery|Claudine Auger|Adolfo Celi|Lucian... 	http://www.mgm.com/view/movie/2009/Thunderball/ 	Terence Young 	Look up! Look down! Look out! 	... 	Eon Productions|Metro-Goldwyn-Mayer (MGM) 	12/16/65 	331 	6.3 	1965 	7.612620e+07 	9.771535e+08 	True 	False 	True
10724 	668 	tt0064757 	1.778746 	7000000 	81974493 	On Her Majesty's Secret Service 	George Lazenby|Diana Rigg|Telly Savalas|Gabrie... 	http://www.mgm.com/view/movie/1411/On-Her-Maje... 	Peter R. Hunt 	Far up! Far out! Far more! James Bond 007 is b... 	... 	Eon Productions|Metro-Goldwyn-Mayer (MGM)|Danjaq 	12/12/69 	258 	6.4 	1969 	4.160985e+07 	4.872780e+08 	True 	False 	True
10759 	948 	tt0077651 	1.198849 	300000 	70000000 	Halloween 	Donald Pleasence|Jamie Lee Curtis|P.J. Soles|N... 	http://www.theofficialjohncarpenter.com/hallow... 	John Carpenter 	The Night HE Came Home! 	... 	Compass International Pictures|Falcon Internat... 	10/25/78 	522 	7.3 	1978 	1.002810e+06 	2.339890e+08 	False 	True 	True
10760 	8469 	tt0077975 	1.157930 	2700000 	141000000 	Animal House 	John Belushi|Tim Matheson|John Vernon|Verna Bl... 	http://www.animalhouse.com/ 	John Landis 	It was the Deltas against the rules... the rul... 	... 	Universal Pictures|Oregon Film Factory|Stage I... 	7/27/78 	230 	6.7 	1978 	9.025292e+06 	4.713208e+08 	False 	False 	True
10817 	13963 	tt0077838 	0.064029 	0 	321952 	The Last Waltz 	Robbie Robertson|Rick Danko|Levon Helm|Richard... 	http://www.mgm.com/#/our-titles/1092/The-Last-... 	Martin Scorsese 	It Started as a Concert. It Became a Celebration. 	... 	FM Productions|Last Waltz Inc. 	5/1/78 	33 	8.0 	1978 	0.000000e+00 	1.076189e+06 	False 	False 	True
10819 	16214 	tt0077696 	0.044675 	0 	78000000 	Hooper 	Burt Reynolds|Robert Klein|Adam West|Jan-Micha... 	http://en.wikipedia.org/wiki/Hooper_(film) 	Hal Needham 	The greatest stuntman alive! 	... 	Warner Bros. 	7/28/78 	13 	6.0 	1978 	0.000000e+00 	2.607307e+08 	True 	False 	False

1992 rows × 24 columns

Conclusions

after importing data frame and cleaning the null cell with mean and drop, then I found there are alot of correlations, and I choose two as a questions,

    the relation between movie genres and popularity, and I found that action movies is more popular than other movies.
    the relation between budget and vote average, and I found that more budgets sent on movies the higher vote will get

Submitting your Project

    Before you submit your project, you need to create a .html or .pdf version of this notebook in the workspace here. To do that, run the code cell below. If it worked correctly, you should get a return code of 0, and you should see the generated .html file in the workspace directory (click on the orange Jupyter icon in the upper left).

    Alternatively, you can download this report as .html via the File > Download as submenu, and then manually upload it into the workspace directory by clicking on the orange Jupyter icon in the upper left, then using the Upload button.

    Once you've done this, you can submit your project by clicking on the "Submit Project" button in the lower right here. This will create and submit a zip file with this .ipynb doc and the .html or .pdf version you created. Congratulations!

​

0

from subprocess import call

call(['python', '-m', 'nbconvert', 'Investigate_a_Dataset.ipynb'])

0

​

